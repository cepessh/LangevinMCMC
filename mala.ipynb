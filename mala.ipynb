{
 "cells": [
  {
   "cell_type": "code",
   "execution_count": 1,
   "metadata": {},
   "outputs": [
    {
     "name": "stderr",
     "output_type": "stream",
     "text": [
      "2024-01-26 01:25:18.788243: E external/local_xla/xla/stream_executor/cuda/cuda_dnn.cc:9261] Unable to register cuDNN factory: Attempting to register factory for plugin cuDNN when one has already been registered\n",
      "2024-01-26 01:25:18.788288: E external/local_xla/xla/stream_executor/cuda/cuda_fft.cc:607] Unable to register cuFFT factory: Attempting to register factory for plugin cuFFT when one has already been registered\n",
      "2024-01-26 01:25:18.789286: E external/local_xla/xla/stream_executor/cuda/cuda_blas.cc:1515] Unable to register cuBLAS factory: Attempting to register factory for plugin cuBLAS when one has already been registered\n",
      "2024-01-26 01:25:19.555771: W tensorflow/compiler/tf2tensorrt/utils/py_utils.cc:38] TF-TRT Warning: Could not find TensorRT\n"
     ]
    }
   ],
   "source": [
    "import tqdm\n",
    "from typing import Callable, Dict, Optional, Tuple, Union\n",
    "\n",
    "import matplotlib.pyplot as plt\n",
    "import pandas as pd\n",
    "import torch\n",
    "from torch import Tensor\n",
    "from torch.distributions import Distribution as torchDist\n",
    "\n",
    "from distributions import SamplableDistribution, GaussianMixture\n",
    "from samplers.mala_ex2mcmc import mala as mala_old\n",
    "from samplers.mala_modified import mala as mala_new\n",
    "from samplers.fisher_mala import fisher_mala\n",
    "\n",
    "from tools.benchmark import BenchmarkUtils, Benchmark"
   ]
  },
  {
   "cell_type": "code",
   "execution_count": 2,
   "metadata": {},
   "outputs": [
    {
     "data": {
      "text/plain": [
       "tensor([[  3.,   6.,  12.],\n",
       "        [-12., -16., -20.]])"
      ]
     },
     "execution_count": 2,
     "metadata": {},
     "output_type": "execute_result"
    }
   ],
   "source": [
    "A = Tensor([\n",
    "    [1, 2, 4],\n",
    "    [3, 4, 5]\n",
    "])\n",
    "\n",
    "C = Tensor([3, -4])\n",
    "\n",
    "A * C[..., None]"
   ]
  },
  {
   "cell_type": "code",
   "execution_count": 3,
   "metadata": {},
   "outputs": [
    {
     "data": {
      "text/plain": [
       "tensor([0, 0, 0])"
      ]
     },
     "execution_count": 3,
     "metadata": {},
     "output_type": "execute_result"
    }
   ],
   "source": [
    "torch.isnan(A).sum(dim=0)"
   ]
  },
  {
   "cell_type": "code",
   "execution_count": 3,
   "metadata": {},
   "outputs": [],
   "source": [
    "seed = 123\n",
    "\n",
    "torch.manual_seed(seed)\n",
    "\n",
    "mass_points_count = 10\n",
    "true_means = torch.rand((mass_points_count, mass_points_count)) * 10 - 5\n",
    "true_covs = torch.eye(mass_points_count).repeat(mass_points_count, 1, 1)\n",
    "\n",
    "sample_count = 1000\n",
    "gm = GaussianMixture(true_means, true_covs,\n",
    "                     torch.full((mass_points_count,), 1/mass_points_count))\n",
    "\n",
    "starting_points = true_means\n",
    "target_dist = gm\n",
    "\n",
    "true_samples = gm.sample(sample_count)"
   ]
  },
  {
   "cell_type": "code",
   "execution_count": 34,
   "metadata": {},
   "outputs": [],
   "source": [
    "mcmc_samples = BenchmarkUtils.sample_mcmc(mala_new, starting_points, target_dist,\n",
    "                                          sample_count=sample_count,\n",
    "                                          burn_in=1000,\n",
    "                                          keep_graph=False,\n",
    "                                          sigma_init=1.)\n",
    "\n",
    "# BenchmarkUtils.create_plot(mcmc_samples[0].detach(), true_samples, \"trues dist\")\n",
    "# BenchmarkUtils.compute_metrics(mcmc_samples[0].detach(), true_samples)"
   ]
  },
  {
   "cell_type": "code",
   "execution_count": 36,
   "metadata": {},
   "outputs": [
    {
     "data": {
      "text/plain": [
       "torch.Size([1000, 10, 10])"
      ]
     },
     "execution_count": 36,
     "metadata": {},
     "output_type": "execute_result"
    }
   ],
   "source": [
    "mcmc_samples[0].shape"
   ]
  },
  {
   "cell_type": "code",
   "execution_count": 6,
   "metadata": {},
   "outputs": [
    {
     "data": {
      "text/plain": [
       "{'ess': 0.16419676,\n",
       " 'tv_mean': Array(0.54042053, dtype=float32),\n",
       " 'tv_conf_sigma': Array(0.0091321, dtype=float32),\n",
       " 'wasserstein': 130.96836972618107}"
      ]
     },
     "execution_count": 6,
     "metadata": {},
     "output_type": "execute_result"
    }
   ],
   "source": [
    "mcmc_samples = BenchmarkUtils.sample_mcmc(mala_old, starting_points, target_dist,\n",
    "                                          sample_count=sample_count,\n",
    "                                          burn_in=1000,\n",
    "                                          step_size=0.5, keep_graph=False)\n",
    "\n",
    "# BenchmarkUtils.create_plot(mcmc_samples[0].detach(), true_samples, \"true dist\")\n",
    "BenchmarkUtils.compute_metrics(mcmc_samples[0].detach(), true_samples)"
   ]
  },
  {
   "cell_type": "code",
   "execution_count": 4,
   "metadata": {},
   "outputs": [
    {
     "data": {
      "text/plain": [
       "{'ess': 0.044364877,\n",
       " 'tv_mean': Array(0.6811118, dtype=float32),\n",
       " 'tv_conf_sigma': Array(0.00663659, dtype=float32),\n",
       " 'wasserstein': 140.8879412521362}"
      ]
     },
     "execution_count": 4,
     "metadata": {},
     "output_type": "execute_result"
    }
   ],
   "source": [
    "mcmc_samples = BenchmarkUtils.sample_mcmc(fisher_mala, starting_points, target_dist,\n",
    "                                          sample_count=sample_count,\n",
    "                                          burn_in_prec=1,\n",
    "                                          burn_in_sigma=500,\n",
    "                                          sigma_init=1., damping=10, keep_graph=False)\n",
    "\n",
    "# BenchmarkUtils.create_plot(mcmc_samples[0].detach(), true_samples, \"true dist\")\n",
    "BenchmarkUtils.compute_metrics(mcmc_samples[0].detach(), true_samples)"
   ]
  },
  {
   "cell_type": "code",
   "execution_count": 10,
   "metadata": {},
   "outputs": [
    {
     "name": "stderr",
     "output_type": "stream",
     "text": [
      "  0%|          | 0/4 [00:00<?, ?it/s]"
     ]
    }
   ],
   "source": [
    "# algs = [mala, ada_mala]\n",
    "algs = {\n",
    "    \"mala_new\": mala_new,\n",
    "    \"mala_old\": mala_old,\n",
    "    \"fisher_mala\": fisher_mala\n",
    "}\n",
    "res_total = {\n",
    "    alg : {}\n",
    "    for alg in algs\n",
    "}\n",
    "\n",
    "mass_points_counts = [2, 5, 10, 15]\n",
    "radius = 2\n",
    "cube = 5\n",
    "chain_count = 30\n",
    "sample_count = 4000\n",
    "burn_in = 4000\n",
    "true_means = torch.rand((mass_points_count, mass_points_count)) * 2 * cube - cube\n",
    "true_covs = torch.eye(mass_points_count).repeat(mass_points_count, 1, 1)\n",
    "\n",
    "for mass_points_count in tqdm.tqdm(mass_points_counts):\n",
    "    true_means = torch.rand((mass_points_count, mass_points_count)) * 10 - 5\n",
    "    true_covs = torch.eye(mass_points_count).repeat(mass_points_count, 1, 1)\n",
    "    gm = GaussianMixture(true_means, true_covs,\n",
    "                         torch.full((mass_points_count,), 1/mass_points_count))\n",
    "\n",
    "    for alg in algs:\n",
    "        benchmark = Benchmark(\n",
    "            target_dist=gm,\n",
    "            target_dist_title=\"true samples\",\n",
    "            dimension=mass_points_count,\n",
    "            sampling_algorithm=algs[alg], \n",
    "            sample_count=sample_count,\n",
    "            chain_count=chain_count,\n",
    "            target_dist_mass_points=true_means,\n",
    "            distance_to_mass_points=radius\n",
    "        )\n",
    "\n",
    "        if alg == \"fisher_mala\":\n",
    "            cur_res = benchmark.run(burn_in_sigma=500,\n",
    "                                    burn_in_prec=burn_in-500,\n",
    "                                    keep_graph=False)\n",
    "        else:\n",
    "            cur_res = benchmark.run(burn_in=burn_in,\n",
    "                                    keep_graph=False)\n",
    "        for key in cur_res:\n",
    "            if key in res_total[alg]:\n",
    "                res_total[alg][key].append(cur_res[key])\n",
    "            else:\n",
    "                res_total[alg][key] = [cur_res[key]]"
   ]
  },
  {
   "cell_type": "code",
   "execution_count": 6,
   "metadata": {},
   "outputs": [
    {
     "data": {
      "text/html": [
       "<div>\n",
       "<style scoped>\n",
       "    .dataframe tbody tr th:only-of-type {\n",
       "        vertical-align: middle;\n",
       "    }\n",
       "\n",
       "    .dataframe tbody tr th {\n",
       "        vertical-align: top;\n",
       "    }\n",
       "\n",
       "    .dataframe thead th {\n",
       "        text-align: right;\n",
       "    }\n",
       "</style>\n",
       "<table border=\"1\" class=\"dataframe\">\n",
       "  <thead>\n",
       "    <tr style=\"text-align: right;\">\n",
       "      <th></th>\n",
       "      <th>ess</th>\n",
       "      <th>tv_mean</th>\n",
       "      <th>tv_conf_sigma</th>\n",
       "      <th>wasserstein</th>\n",
       "      <th>time_elapsed</th>\n",
       "    </tr>\n",
       "  </thead>\n",
       "  <tbody>\n",
       "    <tr>\n",
       "      <th>0</th>\n",
       "      <td>0.637523</td>\n",
       "      <td>0.44291103</td>\n",
       "      <td>0.004538939</td>\n",
       "      <td>33.462368</td>\n",
       "      <td>120.688992</td>\n",
       "    </tr>\n",
       "  </tbody>\n",
       "</table>\n",
       "</div>"
      ],
      "text/plain": [
       "        ess     tv_mean tv_conf_sigma  wasserstein  time_elapsed\n",
       "0  0.637523  0.44291103   0.004538939    33.462368    120.688992"
      ]
     },
     "execution_count": 6,
     "metadata": {},
     "output_type": "execute_result"
    }
   ],
   "source": [
    "pd.DataFrame(res_total[\"mala_old\"])"
   ]
  },
  {
   "cell_type": "code",
   "execution_count": 23,
   "metadata": {},
   "outputs": [
    {
     "data": {
      "text/html": [
       "<div>\n",
       "<style scoped>\n",
       "    .dataframe tbody tr th:only-of-type {\n",
       "        vertical-align: middle;\n",
       "    }\n",
       "\n",
       "    .dataframe tbody tr th {\n",
       "        vertical-align: top;\n",
       "    }\n",
       "\n",
       "    .dataframe thead th {\n",
       "        text-align: right;\n",
       "    }\n",
       "</style>\n",
       "<table border=\"1\" class=\"dataframe\">\n",
       "  <thead>\n",
       "    <tr style=\"text-align: right;\">\n",
       "      <th></th>\n",
       "      <th>ess</th>\n",
       "      <th>tv_mean</th>\n",
       "      <th>tv_conf_sigma</th>\n",
       "      <th>wasserstein</th>\n",
       "      <th>time_elapsed</th>\n",
       "      <th>distance</th>\n",
       "    </tr>\n",
       "  </thead>\n",
       "  <tbody>\n",
       "    <tr>\n",
       "      <th>0</th>\n",
       "      <td>0.168025</td>\n",
       "      <td>0.52380097</td>\n",
       "      <td>0.0058963136</td>\n",
       "      <td>123.588007</td>\n",
       "      <td>19.599287</td>\n",
       "      <td>0.01</td>\n",
       "    </tr>\n",
       "    <tr>\n",
       "      <th>1</th>\n",
       "      <td>0.171416</td>\n",
       "      <td>0.5246308</td>\n",
       "      <td>0.0059378766</td>\n",
       "      <td>120.137128</td>\n",
       "      <td>20.258705</td>\n",
       "      <td>0.10</td>\n",
       "    </tr>\n",
       "    <tr>\n",
       "      <th>2</th>\n",
       "      <td>0.165194</td>\n",
       "      <td>0.52777714</td>\n",
       "      <td>0.0059478884</td>\n",
       "      <td>124.745348</td>\n",
       "      <td>19.797450</td>\n",
       "      <td>1.00</td>\n",
       "    </tr>\n",
       "    <tr>\n",
       "      <th>3</th>\n",
       "      <td>0.180255</td>\n",
       "      <td>0.5360203</td>\n",
       "      <td>0.0058807116</td>\n",
       "      <td>128.227959</td>\n",
       "      <td>20.752135</td>\n",
       "      <td>2.00</td>\n",
       "    </tr>\n",
       "    <tr>\n",
       "      <th>4</th>\n",
       "      <td>0.173619</td>\n",
       "      <td>0.5427313</td>\n",
       "      <td>0.0062374915</td>\n",
       "      <td>138.726523</td>\n",
       "      <td>21.658707</td>\n",
       "      <td>8.00</td>\n",
       "    </tr>\n",
       "  </tbody>\n",
       "</table>\n",
       "</div>"
      ],
      "text/plain": [
       "        ess     tv_mean tv_conf_sigma  wasserstein  time_elapsed  distance\n",
       "0  0.168025  0.52380097  0.0058963136   123.588007     19.599287      0.01\n",
       "1  0.171416   0.5246308  0.0059378766   120.137128     20.258705      0.10\n",
       "2  0.165194  0.52777714  0.0059478884   124.745348     19.797450      1.00\n",
       "3  0.180255   0.5360203  0.0058807116   128.227959     20.752135      2.00\n",
       "4  0.173619   0.5427313  0.0062374915   138.726523     21.658707      8.00"
      ]
     },
     "execution_count": 23,
     "metadata": {},
     "output_type": "execute_result"
    }
   ],
   "source": [
    "pd.DataFrame(res_total[\"mala_new\"])"
   ]
  },
  {
   "cell_type": "code",
   "execution_count": 1,
   "metadata": {},
   "outputs": [
    {
     "name": "stderr",
     "output_type": "stream",
     "text": [
      "2024-01-25 20:54:40.815639: E external/local_xla/xla/stream_executor/cuda/cuda_dnn.cc:9261] Unable to register cuDNN factory: Attempting to register factory for plugin cuDNN when one has already been registered\n",
      "2024-01-25 20:54:40.815711: E external/local_xla/xla/stream_executor/cuda/cuda_fft.cc:607] Unable to register cuFFT factory: Attempting to register factory for plugin cuFFT when one has already been registered\n",
      "2024-01-25 20:54:40.842863: E external/local_xla/xla/stream_executor/cuda/cuda_blas.cc:1515] Unable to register cuBLAS factory: Attempting to register factory for plugin cuBLAS when one has already been registered\n",
      "2024-01-25 20:54:42.045319: W tensorflow/compiler/tf2tensorrt/utils/py_utils.cc:38] TF-TRT Warning: Could not find TensorRT\n"
     ]
    }
   ],
   "source": [
    "from ex2mcmc.metrics.chain import ESS, acl_spectrum, autocovariance"
   ]
  },
  {
   "cell_type": "code",
   "execution_count": 37,
   "metadata": {},
   "outputs": [],
   "source": [
    "import torch\n",
    "import jax.numpy as jnp\n",
    "\n",
    "n = 100\n",
    "dist = torch.distributions.MultivariateNormal(\n",
    "    torch.zeros(n),\n",
    "    torch.eye(n)\n",
    ")\n",
    "\n",
    "X = dist.sample((n, ))[None, ...]"
   ]
  },
  {
   "cell_type": "code",
   "execution_count": 28,
   "metadata": {},
   "outputs": [
    {
     "data": {
      "text/plain": [
       "torch.Size([10, 100, 100])"
      ]
     },
     "execution_count": 28,
     "metadata": {},
     "output_type": "execute_result"
    }
   ],
   "source": [
    "X.repeat(10, 1, 1).shape"
   ]
  },
  {
   "cell_type": "code",
   "execution_count": 59,
   "metadata": {},
   "outputs": [],
   "source": [
    "Y = jnp.array([\n",
    "    [1, 2],\n",
    "    [-3, -4],\n",
    "    [5, -6],\n",
    "    [7, 8],\n",
    "    [-4, 1]\n",
    "])"
   ]
  },
  {
   "cell_type": "code",
   "execution_count": 60,
   "metadata": {},
   "outputs": [
    {
     "data": {
      "text/plain": [
       "Array([[  5, -12],\n",
       "       [-21, -32],\n",
       "       [-20,  -6]], dtype=int32)"
      ]
     },
     "execution_count": 60,
     "metadata": {},
     "output_type": "execute_result"
    }
   ],
   "source": [
    "Y[:-2] * Y[2:,]"
   ]
  },
  {
   "cell_type": "code",
   "execution_count": 58,
   "metadata": {},
   "outputs": [
    {
     "data": {
      "text/plain": [
       "Array([ -8., -22.], dtype=float32)"
      ]
     },
     "execution_count": 58,
     "metadata": {},
     "output_type": "execute_result"
    }
   ],
   "source": [
    "jnp.mean(Y[:-2] * Y[2:,], axis=0)"
   ]
  },
  {
   "cell_type": "code",
   "execution_count": 61,
   "metadata": {},
   "outputs": [
    {
     "data": {
      "text/plain": [
       "Array([20. , 24.2], dtype=float32)"
      ]
     },
     "execution_count": 61,
     "metadata": {},
     "output_type": "execute_result"
    }
   ],
   "source": [
    "autocovariance(Y, 0)"
   ]
  },
  {
   "cell_type": "code",
   "execution_count": 45,
   "metadata": {},
   "outputs": [
    {
     "data": {
      "text/plain": [
       "array([[ 0.9999998,  0.9999998],\n",
       "       [ 0.       ,  0.       ],\n",
       "       [-1.4999998, -1.4999998],\n",
       "       [       nan,        nan],\n",
       "       [-0.       , -0.       ],\n",
       "       [-0.       , -0.       ],\n",
       "       [-0.       , -0.       ],\n",
       "       [-0.       , -0.       ],\n",
       "       [-0.       , -0.       ],\n",
       "       [-0.       , -0.       ],\n",
       "       [-0.       , -0.       ],\n",
       "       [-0.       , -0.       ],\n",
       "       [-0.       , -0.       ],\n",
       "       [-0.       , -0.       ],\n",
       "       [-0.       , -0.       ],\n",
       "       [-0.       , -0.       ],\n",
       "       [-0.       , -0.       ],\n",
       "       [-0.       , -0.       ],\n",
       "       [-0.       , -0.       ],\n",
       "       [-0.       , -0.       ],\n",
       "       [-0.       , -0.       ],\n",
       "       [-0.       , -0.       ],\n",
       "       [-0.       , -0.       ],\n",
       "       [-0.       , -0.       ],\n",
       "       [-0.       , -0.       ],\n",
       "       [-0.       , -0.       ],\n",
       "       [-0.       , -0.       ],\n",
       "       [-0.       , -0.       ],\n",
       "       [-0.       , -0.       ],\n",
       "       [-0.       , -0.       ],\n",
       "       [-0.       , -0.       ],\n",
       "       [-0.       , -0.       ],\n",
       "       [-0.       , -0.       ],\n",
       "       [-0.       , -0.       ],\n",
       "       [-0.       , -0.       ],\n",
       "       [-0.       , -0.       ],\n",
       "       [-0.       , -0.       ],\n",
       "       [-0.       , -0.       ],\n",
       "       [-0.       , -0.       ],\n",
       "       [-0.       , -0.       ],\n",
       "       [-0.       , -0.       ],\n",
       "       [-0.       , -0.       ],\n",
       "       [-0.       , -0.       ],\n",
       "       [-0.       , -0.       ],\n",
       "       [-0.       , -0.       ],\n",
       "       [-0.       , -0.       ],\n",
       "       [-0.       , -0.       ],\n",
       "       [-0.       , -0.       ],\n",
       "       [-0.       , -0.       ],\n",
       "       [-0.       , -0.       ],\n",
       "       [-0.       , -0.       ],\n",
       "       [-0.       , -0.       ],\n",
       "       [-0.       , -0.       ],\n",
       "       [-0.       , -0.       ],\n",
       "       [-0.       , -0.       ],\n",
       "       [-0.       , -0.       ],\n",
       "       [-0.       , -0.       ],\n",
       "       [-0.       , -0.       ],\n",
       "       [-0.       , -0.       ],\n",
       "       [-0.       , -0.       ],\n",
       "       [-0.       , -0.       ],\n",
       "       [-0.       , -0.       ],\n",
       "       [-0.       , -0.       ],\n",
       "       [-0.       , -0.       ],\n",
       "       [-0.       , -0.       ],\n",
       "       [-0.       , -0.       ],\n",
       "       [-0.       , -0.       ],\n",
       "       [-0.       , -0.       ],\n",
       "       [-0.       , -0.       ],\n",
       "       [-0.       , -0.       ],\n",
       "       [-0.       , -0.       ],\n",
       "       [-0.       , -0.       ],\n",
       "       [-0.       , -0.       ],\n",
       "       [-0.       , -0.       ],\n",
       "       [-0.       , -0.       ],\n",
       "       [-0.       , -0.       ],\n",
       "       [-0.       , -0.       ],\n",
       "       [-0.       , -0.       ],\n",
       "       [-0.       , -0.       ],\n",
       "       [-0.       , -0.       ],\n",
       "       [-0.       , -0.       ],\n",
       "       [-0.       , -0.       ],\n",
       "       [-0.       , -0.       ],\n",
       "       [-0.       , -0.       ],\n",
       "       [-0.       , -0.       ],\n",
       "       [-0.       , -0.       ],\n",
       "       [-0.       , -0.       ],\n",
       "       [-0.       , -0.       ],\n",
       "       [-0.       , -0.       ],\n",
       "       [-0.       , -0.       ],\n",
       "       [-0.       , -0.       ],\n",
       "       [-0.       , -0.       ],\n",
       "       [-0.       , -0.       ],\n",
       "       [-0.       , -0.       ],\n",
       "       [-0.       , -0.       ],\n",
       "       [-0.       , -0.       ],\n",
       "       [-0.       , -0.       ],\n",
       "       [-0.       , -0.       ],\n",
       "       [-0.       , -0.       ],\n",
       "       [-0.       , -0.       ],\n",
       "       [-0.       , -0.       ],\n",
       "       [-0.       , -0.       ],\n",
       "       [-0.       , -0.       ],\n",
       "       [-0.       , -0.       ],\n",
       "       [-0.       , -0.       ],\n",
       "       [-0.       , -0.       ],\n",
       "       [-0.       , -0.       ],\n",
       "       [-0.       , -0.       ],\n",
       "       [-0.       , -0.       ],\n",
       "       [-0.       , -0.       ],\n",
       "       [-0.       , -0.       ],\n",
       "       [-0.       , -0.       ],\n",
       "       [-0.       , -0.       ],\n",
       "       [-0.       , -0.       ],\n",
       "       [-0.       , -0.       ],\n",
       "       [-0.       , -0.       ],\n",
       "       [-0.       , -0.       ],\n",
       "       [-0.       , -0.       ],\n",
       "       [-0.       , -0.       ],\n",
       "       [-0.       , -0.       ],\n",
       "       [-0.       , -0.       ],\n",
       "       [-0.       , -0.       ],\n",
       "       [-0.       , -0.       ],\n",
       "       [-0.       , -0.       ],\n",
       "       [-0.       , -0.       ],\n",
       "       [-0.       , -0.       ],\n",
       "       [-0.       , -0.       ],\n",
       "       [-0.       , -0.       ],\n",
       "       [-0.       , -0.       ],\n",
       "       [-0.       , -0.       ],\n",
       "       [-0.       , -0.       ],\n",
       "       [-0.       , -0.       ],\n",
       "       [-0.       , -0.       ],\n",
       "       [-0.       , -0.       ],\n",
       "       [-0.       , -0.       ],\n",
       "       [-0.       , -0.       ],\n",
       "       [-0.       , -0.       ],\n",
       "       [-0.       , -0.       ],\n",
       "       [-0.       , -0.       ],\n",
       "       [-0.       , -0.       ],\n",
       "       [-0.       , -0.       ],\n",
       "       [-0.       , -0.       ],\n",
       "       [-0.       , -0.       ],\n",
       "       [-0.       , -0.       ],\n",
       "       [-0.       , -0.       ],\n",
       "       [-0.       , -0.       ],\n",
       "       [-0.       , -0.       ],\n",
       "       [-0.       , -0.       ],\n",
       "       [-0.       , -0.       ]], dtype=float32)"
      ]
     },
     "execution_count": 45,
     "metadata": {},
     "output_type": "execute_result"
    }
   ],
   "source": [
    "acl_spectrum(Y - Y.mean(0)[None, ...])"
   ]
  },
  {
   "cell_type": "code",
   "execution_count": 10,
   "metadata": {},
   "outputs": [
    {
     "ename": "TypeError",
     "evalue": "sum() received an invalid combination of arguments - got (out=NoneType, axis=int, ), but expected one of:\n * (*, torch.dtype dtype)\n      didn't match because some of the keywords were incorrect: out, axis\n * (tuple of ints dim, bool keepdim, *, torch.dtype dtype)\n * (tuple of names dim, bool keepdim, *, torch.dtype dtype)\n",
     "output_type": "error",
     "traceback": [
      "\u001b[0;31m---------------------------------------------------------------------------\u001b[0m",
      "\u001b[0;31mTypeError\u001b[0m                                 Traceback (most recent call last)",
      "Cell \u001b[0;32mIn[10], line 1\u001b[0m\n\u001b[0;32m----> 1\u001b[0m ESS(\u001b[43macl_spectrum\u001b[49m\u001b[43m(\u001b[49m\u001b[43mX\u001b[49m\u001b[43m \u001b[49m\u001b[38;5;241;43m-\u001b[39;49m\u001b[43m \u001b[49m\u001b[43mX\u001b[49m\u001b[38;5;241;43m.\u001b[39;49m\u001b[43mmean\u001b[49m\u001b[43m(\u001b[49m\u001b[38;5;241;43m0\u001b[39;49m\u001b[43m)\u001b[49m\u001b[43m)\u001b[49m)\n",
      "File \u001b[0;32m~/Projects/LangevinMCMC/ex2mcmc/metrics/chain.py:197\u001b[0m, in \u001b[0;36macl_spectrum\u001b[0;34m(X, n, scale)\u001b[0m\n\u001b[1;32m    196\u001b[0m \u001b[38;5;28;01mdef\u001b[39;00m \u001b[38;5;21macl_spectrum\u001b[39m(X, n\u001b[38;5;241m=\u001b[39m\u001b[38;5;241m150\u001b[39m, scale\u001b[38;5;241m=\u001b[39m\u001b[38;5;28;01mNone\u001b[39;00m):\n\u001b[0;32m--> 197\u001b[0m     scale \u001b[38;5;241m=\u001b[39m np\u001b[38;5;241m.\u001b[39marray(scale) \u001b[38;5;28;01mif\u001b[39;00m scale \u001b[38;5;129;01mis\u001b[39;00m \u001b[38;5;129;01mnot\u001b[39;00m \u001b[38;5;28;01mNone\u001b[39;00m \u001b[38;5;28;01melse\u001b[39;00m np\u001b[38;5;241m.\u001b[39msqrt(\u001b[43mautocovariance\u001b[49m\u001b[43m(\u001b[49m\u001b[43mX\u001b[49m\u001b[43m,\u001b[49m\u001b[43m \u001b[49m\u001b[43mtau\u001b[49m\u001b[38;5;241;43m=\u001b[39;49m\u001b[38;5;241;43m0\u001b[39;49m\u001b[43m)\u001b[49m)\n\u001b[1;32m    198\u001b[0m     \u001b[38;5;28;01mreturn\u001b[39;00m np\u001b[38;5;241m.\u001b[39mstack(\n\u001b[1;32m    199\u001b[0m         [autocovariance(X \u001b[38;5;241m/\u001b[39m (scale[\u001b[38;5;28;01mNone\u001b[39;00m, \u001b[38;5;241m.\u001b[39m\u001b[38;5;241m.\u001b[39m\u001b[38;5;241m.\u001b[39m] \u001b[38;5;241m+\u001b[39m \u001b[38;5;241m1e-7\u001b[39m), tau\u001b[38;5;241m=\u001b[39mt) \u001b[38;5;28;01mfor\u001b[39;00m t \u001b[38;5;129;01min\u001b[39;00m \u001b[38;5;28mrange\u001b[39m(n \u001b[38;5;241m-\u001b[39m \u001b[38;5;241m1\u001b[39m)],\n\u001b[1;32m    200\u001b[0m         axis\u001b[38;5;241m=\u001b[39m\u001b[38;5;241m0\u001b[39m,\n\u001b[1;32m    201\u001b[0m     )\n",
      "File \u001b[0;32m~/Projects/LangevinMCMC/ex2mcmc/metrics/chain.py:191\u001b[0m, in \u001b[0;36mautocovariance\u001b[0;34m(X, tau)\u001b[0m\n\u001b[1;32m    188\u001b[0m     x1 \u001b[38;5;241m=\u001b[39m X\n\u001b[1;32m    189\u001b[0m x2 \u001b[38;5;241m=\u001b[39m X[tau:, \u001b[38;5;241m.\u001b[39m\u001b[38;5;241m.\u001b[39m\u001b[38;5;241m.\u001b[39m]\n\u001b[0;32m--> 191\u001b[0m s \u001b[38;5;241m=\u001b[39m \u001b[43mnp\u001b[49m\u001b[38;5;241;43m.\u001b[39;49m\u001b[43msum\u001b[49m\u001b[43m(\u001b[49m\u001b[43mx1\u001b[49m\u001b[43m \u001b[49m\u001b[38;5;241;43m*\u001b[39;49m\u001b[43m \u001b[49m\u001b[43mx2\u001b[49m\u001b[43m,\u001b[49m\u001b[43m \u001b[49m\u001b[43maxis\u001b[49m\u001b[38;5;241;43m=\u001b[39;49m\u001b[38;5;241;43m0\u001b[39;49m\u001b[43m)\u001b[49m \u001b[38;5;241m/\u001b[39m dN\n\u001b[1;32m    193\u001b[0m \u001b[38;5;28;01mreturn\u001b[39;00m s \u001b[38;5;241m/\u001b[39m (dT \u001b[38;5;241m-\u001b[39m tau)\n",
      "File \u001b[0;32m~/.pyenv/versions/3.11.7/envs/ml_env/lib/python3.11/site-packages/numpy/core/fromnumeric.py:2313\u001b[0m, in \u001b[0;36msum\u001b[0;34m(a, axis, dtype, out, keepdims, initial, where)\u001b[0m\n\u001b[1;32m   2310\u001b[0m         \u001b[38;5;28;01mreturn\u001b[39;00m out\n\u001b[1;32m   2311\u001b[0m     \u001b[38;5;28;01mreturn\u001b[39;00m res\n\u001b[0;32m-> 2313\u001b[0m \u001b[38;5;28;01mreturn\u001b[39;00m \u001b[43m_wrapreduction\u001b[49m\u001b[43m(\u001b[49m\u001b[43ma\u001b[49m\u001b[43m,\u001b[49m\u001b[43m \u001b[49m\u001b[43mnp\u001b[49m\u001b[38;5;241;43m.\u001b[39;49m\u001b[43madd\u001b[49m\u001b[43m,\u001b[49m\u001b[43m \u001b[49m\u001b[38;5;124;43m'\u001b[39;49m\u001b[38;5;124;43msum\u001b[39;49m\u001b[38;5;124;43m'\u001b[39;49m\u001b[43m,\u001b[49m\u001b[43m \u001b[49m\u001b[43maxis\u001b[49m\u001b[43m,\u001b[49m\u001b[43m \u001b[49m\u001b[43mdtype\u001b[49m\u001b[43m,\u001b[49m\u001b[43m \u001b[49m\u001b[43mout\u001b[49m\u001b[43m,\u001b[49m\u001b[43m \u001b[49m\u001b[43mkeepdims\u001b[49m\u001b[38;5;241;43m=\u001b[39;49m\u001b[43mkeepdims\u001b[49m\u001b[43m,\u001b[49m\n\u001b[1;32m   2314\u001b[0m \u001b[43m                      \u001b[49m\u001b[43minitial\u001b[49m\u001b[38;5;241;43m=\u001b[39;49m\u001b[43minitial\u001b[49m\u001b[43m,\u001b[49m\u001b[43m \u001b[49m\u001b[43mwhere\u001b[49m\u001b[38;5;241;43m=\u001b[39;49m\u001b[43mwhere\u001b[49m\u001b[43m)\u001b[49m\n",
      "File \u001b[0;32m~/.pyenv/versions/3.11.7/envs/ml_env/lib/python3.11/site-packages/numpy/core/fromnumeric.py:86\u001b[0m, in \u001b[0;36m_wrapreduction\u001b[0;34m(obj, ufunc, method, axis, dtype, out, **kwargs)\u001b[0m\n\u001b[1;32m     84\u001b[0m             \u001b[38;5;28;01mreturn\u001b[39;00m reduction(axis\u001b[38;5;241m=\u001b[39maxis, dtype\u001b[38;5;241m=\u001b[39mdtype, out\u001b[38;5;241m=\u001b[39mout, \u001b[38;5;241m*\u001b[39m\u001b[38;5;241m*\u001b[39mpasskwargs)\n\u001b[1;32m     85\u001b[0m         \u001b[38;5;28;01melse\u001b[39;00m:\n\u001b[0;32m---> 86\u001b[0m             \u001b[38;5;28;01mreturn\u001b[39;00m \u001b[43mreduction\u001b[49m\u001b[43m(\u001b[49m\u001b[43maxis\u001b[49m\u001b[38;5;241;43m=\u001b[39;49m\u001b[43maxis\u001b[49m\u001b[43m,\u001b[49m\u001b[43m \u001b[49m\u001b[43mout\u001b[49m\u001b[38;5;241;43m=\u001b[39;49m\u001b[43mout\u001b[49m\u001b[43m,\u001b[49m\u001b[43m \u001b[49m\u001b[38;5;241;43m*\u001b[39;49m\u001b[38;5;241;43m*\u001b[39;49m\u001b[43mpasskwargs\u001b[49m\u001b[43m)\u001b[49m\n\u001b[1;32m     88\u001b[0m \u001b[38;5;28;01mreturn\u001b[39;00m ufunc\u001b[38;5;241m.\u001b[39mreduce(obj, axis, dtype, out, \u001b[38;5;241m*\u001b[39m\u001b[38;5;241m*\u001b[39mpasskwargs)\n",
      "\u001b[0;31mTypeError\u001b[0m: sum() received an invalid combination of arguments - got (out=NoneType, axis=int, ), but expected one of:\n * (*, torch.dtype dtype)\n      didn't match because some of the keywords were incorrect: out, axis\n * (tuple of ints dim, bool keepdim, *, torch.dtype dtype)\n * (tuple of names dim, bool keepdim, *, torch.dtype dtype)\n"
     ]
    }
   ],
   "source": [
    "ESS(acl_spectrum(X - X.mean(0)))"
   ]
  }
 ],
 "metadata": {
  "kernelspec": {
   "display_name": "ml_env",
   "language": "python",
   "name": "python3"
  },
  "language_info": {
   "codemirror_mode": {
    "name": "ipython",
    "version": 3
   },
   "file_extension": ".py",
   "mimetype": "text/x-python",
   "name": "python",
   "nbconvert_exporter": "python",
   "pygments_lexer": "ipython3",
   "version": "3.11.7"
  }
 },
 "nbformat": 4,
 "nbformat_minor": 2
}
