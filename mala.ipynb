{
 "cells": [
  {
   "cell_type": "code",
   "execution_count": null,
   "metadata": {},
   "outputs": [],
   "source": [
    "import tqdm\n",
    "from typing import Callable, Dict, Optional, Tuple, Union\n",
    "\n",
    "import matplotlib.pyplot as plt\n",
    "import pandas as pd\n",
    "import torch\n",
    "from torch import Tensor\n",
    "from torch.distributions import Distribution as torchDist\n",
    "\n",
    "from distributions import SamplableDistribution, GaussianMixture\n",
    "from samplers.mala_ex2mcmc import mala as mala_old\n",
    "from samplers.mala_modified import mala as mala_new\n",
    "from samplers.fisher_mala import fisher_mala\n",
    "\n",
    "from tools.benchmark import BenchmarkUtils, Benchmark"
   ]
  },
  {
   "cell_type": "code",
   "execution_count": null,
   "metadata": {},
   "outputs": [],
   "source": [
    "seed = 123\n",
    "\n",
    "torch.manual_seed(seed)\n",
    "\n",
    "mass_points_count = 2\n",
    "gaussian_count = 1\n",
    "true_means = torch.rand((gaussian_count, mass_points_count)) * 2 - 1\n",
    "true_covs = torch.eye(mass_points_count).repeat(gaussian_count, 1, 1)\n",
    "\n",
    "sample_count = 1000\n",
    "gm = GaussianMixture(true_means, true_covs,\n",
    "                     torch.full((gaussian_count,), 1/mass_points_count, dtype=torch.float64))\n",
    "\n",
    "starting_points = true_means\n",
    "target_dist = gm\n",
    "\n",
    "true_samples = gm.sample(sample_count)"
   ]
  },
  {
   "cell_type": "code",
   "execution_count": null,
   "metadata": {},
   "outputs": [],
   "source": [
    "mcmc_samples = BenchmarkUtils.sample_mcmc(fisher_mala, starting_points, target_dist,\n",
    "                                          sample_count=sample_count,\n",
    "                                          burn_in_prec=500,\n",
    "                                          burn_in_sigma=500,\n",
    "                                          sigma_init=1e-2, damping=10, keep_graph=False)\n",
    "\n",
    "BenchmarkUtils.create_plot(mcmc_samples[0].detach(), true_samples, \"true dist\")\n",
    "BenchmarkUtils.compute_metrics(mcmc_samples[0].detach(), true_samples)"
   ]
  },
  {
   "cell_type": "code",
   "execution_count": null,
   "metadata": {},
   "outputs": [],
   "source": [
    "mcmc_samples = BenchmarkUtils.sample_mcmc(mala_new, starting_points, target_dist,\n",
    "                                          sample_count=sample_count,\n",
    "                                          burn_in=5000,\n",
    "                                          keep_graph=False,\n",
    "                                          sigma_init=1e-2)\n",
    "\n",
    "# BenchmarkUtils.create_plot(mcmc_samples[0].detach(), true_samples, \"trues dist\")\n",
    "BenchmarkUtils.compute_metrics(mcmc_samples[0].detach(), true_samples)"
   ]
  },
  {
   "cell_type": "code",
   "execution_count": null,
   "metadata": {},
   "outputs": [],
   "source": [
    "# torch.autograd.set_detect_anomaly(True)\n",
    "\n",
    "mcmc_samples = BenchmarkUtils.sample_mcmc(mala_old, starting_points, target_dist,\n",
    "                                          sample_count=sample_count,\n",
    "                                          burn_in=5000,\n",
    "                                          step_size=1e-2, keep_graph=True)\n",
    "\n",
    "# BenchmarkUtils.create_plot(mcmc_samples[0].detach(), true_samples, \"true dist\")\n",
    "#BenchmarkUtils.compute_metrics(mcmc_samples[0].detach(), true_samples)"
   ]
  },
  {
   "cell_type": "code",
   "execution_count": null,
   "metadata": {},
   "outputs": [],
   "source": [
    "BenchmarkUtils.compute_metrics(mcmc_samples[0].detach(), true_samples)"
   ]
  },
  {
   "cell_type": "code",
   "execution_count": null,
   "metadata": {},
   "outputs": [],
   "source": [
    "BenchmarkUtils.compute_metrics(mcmc_samples[0].detach(), true_samples)"
   ]
  },
  {
   "cell_type": "code",
   "execution_count": null,
   "metadata": {},
   "outputs": [],
   "source": [
    "mcmc_samples = BenchmarkUtils.sample_mcmc(fisher_mala, starting_points, target_dist,\n",
    "                                          sample_count=sample_count,\n",
    "                                          burn_in_prec=4500,\n",
    "                                          burn_in_sigma=500,\n",
    "                                          sigma_init=1e-2, damping=10, keep_graph=False)\n",
    "\n",
    "# BenchmarkUtils.create_plot(mcmc_samples[0].detach(), true_samples, \"true dist\")\n",
    "#BenchmarkUtils.compute_metrics(mcmc_samples[0].detach(), true_samples)"
   ]
  },
  {
   "cell_type": "code",
   "execution_count": null,
   "metadata": {},
   "outputs": [],
   "source": [
    "BenchmarkUtils.compute_metrics(mcmc_samples[0].detach(), true_samples)"
   ]
  },
  {
   "cell_type": "code",
   "execution_count": null,
   "metadata": {},
   "outputs": [],
   "source": [
    "BenchmarkUtils.compute_metrics(mcmc_samples[0].detach(), true_samples)"
   ]
  },
  {
   "cell_type": "code",
   "execution_count": null,
   "metadata": {},
   "outputs": [],
   "source": [
    "BenchmarkUtils.compute_metrics(mcmc_samples[0].detach(), true_samples)"
   ]
  },
  {
   "cell_type": "code",
   "execution_count": null,
   "metadata": {},
   "outputs": [],
   "source": [
    "BenchmarkUtils.compute_metrics(mcmc_samples[0].detach(), true_samples)"
   ]
  },
  {
   "cell_type": "code",
   "execution_count": null,
   "metadata": {},
   "outputs": [],
   "source": [
    "A = torch.rand(5, 5) \n",
    "A = A @ A.permute(1, 0)\n",
    "A"
   ]
  },
  {
   "cell_type": "code",
   "execution_count": null,
   "metadata": {},
   "outputs": [],
   "source": [
    "# algs = [mala, ada_mala]\n",
    "algs = {\n",
    "    \"mala_new\": mala_new,\n",
    "    \"mala_old\": mala_old,\n",
    "    \"fisher_mala\": fisher_mala\n",
    "}\n",
    "res_total = {\n",
    "    alg : {}\n",
    "    for alg in algs\n",
    "}\n",
    "\n",
    "\n",
    "mass_points_counts = [2, 5, 10, 25, 50] #, 100, 200]\n",
    "gaussian_count = 5\n",
    "radius = 0.5\n",
    "cube = 1\n",
    "chain_count = 25\n",
    "sample_count = 1000\n",
    "burn_in = 1000\n",
    "\n",
    "alg_params = {\n",
    "    \"mala_old\": {\n",
    "        \"burn_in\": burn_in,\n",
    "        \"step_size\": 1e-2\n",
    "    },\n",
    "    \"mala_new\": {\n",
    "        \"burn_in\": burn_in,\n",
    "        \"sigma_init\": 1e-2,\n",
    "    },\n",
    "    \"fisher_mala\": {\n",
    "        \"burn_in_prec\": burn_in - 500,\n",
    "        \"burn_in_sigma\": 500,\n",
    "        \"sigma_init\": 1e-2\n",
    "    },\n",
    "}\n",
    "\n",
    "\n",
    "for mass_points_count in tqdm.tqdm(mass_points_counts):\n",
    "    true_means = torch.rand((gaussian_count, mass_points_count)) * cube * 2 - 5\n",
    "    true_cov = torch.rand(mass_points_count, mass_points_count)\n",
    "    true_cov = true_cov @ true_cov.permute(1, 0) + torch.eye(mass_points_count)\n",
    "    true_covs = true_cov.repeat(gaussian_count, 1, 1)\n",
    "    \n",
    "    gm = GaussianMixture(true_means, true_covs,\n",
    "                         torch.full((gaussian_count,), 1/mass_points_count))\n",
    "\n",
    "    for alg in algs:\n",
    "        benchmark = Benchmark(\n",
    "            target_dist=gm,\n",
    "            target_dist_title=\"true samples\",\n",
    "            dimension=mass_points_count,\n",
    "            sampling_algorithm=algs[alg], \n",
    "            sample_count=sample_count,\n",
    "            chain_count=chain_count,\n",
    "            target_dist_mass_points=true_means,\n",
    "            distance_to_mass_points=radius\n",
    "        )\n",
    "\n",
    "\n",
    "        cur_res = benchmark.run(keep_graph=False, **alg_params[alg])\n",
    "        cur_res[\"dimension\"] = mass_points_count\n",
    "\n",
    "        for key in cur_res:\n",
    "            if key in res_total[alg]:\n",
    "                res_total[alg][key].append(cur_res[key])\n",
    "            else:\n",
    "                res_total[alg][key] = [cur_res[key]]"
   ]
  },
  {
   "cell_type": "code",
   "execution_count": null,
   "metadata": {},
   "outputs": [],
   "source": [
    "pd.DataFrame(res_total[\"mala_old\"])"
   ]
  },
  {
   "cell_type": "code",
   "execution_count": null,
   "metadata": {},
   "outputs": [],
   "source": [
    "pd.DataFrame(res_total[\"mala_new\"])"
   ]
  },
  {
   "cell_type": "code",
   "execution_count": null,
   "metadata": {},
   "outputs": [],
   "source": [
    "pd.DataFrame(res_total[\"fisher_mala\"])"
   ]
  },
  {
   "cell_type": "code",
   "execution_count": null,
   "metadata": {},
   "outputs": [],
   "source": [
    "pd.DataFrame(res_total[\"mala_old\"])"
   ]
  },
  {
   "cell_type": "code",
   "execution_count": null,
   "metadata": {},
   "outputs": [],
   "source": [
    "pd.DataFrame(res_total[\"mala_new\"])"
   ]
  },
  {
   "cell_type": "code",
   "execution_count": null,
   "metadata": {},
   "outputs": [],
   "source": [
    "pd.DataFrame(res_total[\"fisher_mala\"])"
   ]
  }
 ],
 "metadata": {
  "kernelspec": {
   "display_name": "ml_env",
   "language": "python",
   "name": "python3"
  },
  "language_info": {
   "codemirror_mode": {
    "name": "ipython",
    "version": 3
   },
   "file_extension": ".py",
   "mimetype": "text/x-python",
   "name": "python",
   "nbconvert_exporter": "python",
   "pygments_lexer": "ipython3",
   "version": "3.11.7"
  }
 },
 "nbformat": 4,
 "nbformat_minor": 2
}
