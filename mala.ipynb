{
 "cells": [
  {
   "cell_type": "code",
   "execution_count": 1,
   "metadata": {},
   "outputs": [
    {
     "name": "stderr",
     "output_type": "stream",
     "text": [
      "/tmp/ipykernel_8759/3972395637.py:5: DeprecationWarning: \n",
      "Pyarrow will become a required dependency of pandas in the next major release of pandas (pandas 3.0),\n",
      "(to allow more performant data types, such as the Arrow string type, and better interoperability with other libraries)\n",
      "but was not found to be installed on your system.\n",
      "If this would cause problems for you,\n",
      "please provide us feedback at https://github.com/pandas-dev/pandas/issues/54466\n",
      "        \n",
      "  import pandas as pd\n"
     ]
    }
   ],
   "source": [
    "import tqdm\n",
    "from typing import Callable, Dict, Optional, Tuple, Union\n",
    "\n",
    "import matplotlib.pyplot as plt\n",
    "import pandas as pd\n",
    "import torch\n",
    "from torch import Tensor\n",
    "from torch.distributions import Distribution as torchDist\n",
    "\n",
    "from distributions import SamplableDistribution, GaussianMixture\n",
    "from samplers.mala_ex2mcmc import mala as mala_old\n",
    "from samplers.mala_modified import mala as mala_new\n",
    "from samplers.fisher_mala import fisher_mala\n",
    "\n",
    "from tools.benchmark import BenchmarkUtils, Benchmark"
   ]
  },
  {
   "cell_type": "code",
   "execution_count": 16,
   "metadata": {},
   "outputs": [],
   "source": [
    "seed = 123\n",
    "\n",
    "torch.manual_seed(seed)\n",
    "\n",
    "mass_points_count = 200\n",
    "true_means = torch.rand((mass_points_count, mass_points_count)) * 10 - 5\n",
    "true_covs = torch.eye(mass_points_count).repeat(mass_points_count, 1, 1)\n",
    "\n",
    "sample_count = 5000\n",
    "gm = GaussianMixture(true_means, true_covs,\n",
    "                     torch.full((mass_points_count,), 1/mass_points_count, dtype=torch.float64))\n",
    "\n",
    "starting_points = true_means\n",
    "target_dist = gm\n",
    "\n",
    "true_samples = gm.sample(sample_count)"
   ]
  },
  {
   "cell_type": "code",
   "execution_count": 17,
   "metadata": {},
   "outputs": [
    {
     "ename": "KeyboardInterrupt",
     "evalue": "",
     "output_type": "error",
     "traceback": [
      "\u001b[0;31m---------------------------------------------------------------------------\u001b[0m",
      "\u001b[0;31mKeyboardInterrupt\u001b[0m                         Traceback (most recent call last)",
      "\u001b[1;32m/home/liv/Projects/LangevinMCMC/mala.ipynb Cell 3\u001b[0m line \u001b[0;36m1\n\u001b[0;32m----> <a href='vscode-notebook-cell:/home/liv/Projects/LangevinMCMC/mala.ipynb#X24sZmlsZQ%3D%3D?line=0'>1</a>\u001b[0m mcmc_samples \u001b[39m=\u001b[39m BenchmarkUtils\u001b[39m.\u001b[39;49msample_mcmc(fisher_mala, starting_points, target_dist,\n\u001b[1;32m      <a href='vscode-notebook-cell:/home/liv/Projects/LangevinMCMC/mala.ipynb#X24sZmlsZQ%3D%3D?line=1'>2</a>\u001b[0m                                           sample_count\u001b[39m=\u001b[39;49msample_count,\n\u001b[1;32m      <a href='vscode-notebook-cell:/home/liv/Projects/LangevinMCMC/mala.ipynb#X24sZmlsZQ%3D%3D?line=2'>3</a>\u001b[0m                                           burn_in_prec\u001b[39m=\u001b[39;49m\u001b[39m4500\u001b[39;49m,\n\u001b[1;32m      <a href='vscode-notebook-cell:/home/liv/Projects/LangevinMCMC/mala.ipynb#X24sZmlsZQ%3D%3D?line=3'>4</a>\u001b[0m                                           burn_in_sigma\u001b[39m=\u001b[39;49m\u001b[39m500\u001b[39;49m,\n\u001b[1;32m      <a href='vscode-notebook-cell:/home/liv/Projects/LangevinMCMC/mala.ipynb#X24sZmlsZQ%3D%3D?line=4'>5</a>\u001b[0m                                           sigma_init\u001b[39m=\u001b[39;49m\u001b[39m1e-2\u001b[39;49m, damping\u001b[39m=\u001b[39;49m\u001b[39m10\u001b[39;49m, keep_graph\u001b[39m=\u001b[39;49m\u001b[39mFalse\u001b[39;49;00m)\n\u001b[1;32m      <a href='vscode-notebook-cell:/home/liv/Projects/LangevinMCMC/mala.ipynb#X24sZmlsZQ%3D%3D?line=6'>7</a>\u001b[0m \u001b[39m# BenchmarkUtils.create_plot(mcmc_samples[0].detach(), true_samples, \"true dist\")\u001b[39;00m\n\u001b[1;32m      <a href='vscode-notebook-cell:/home/liv/Projects/LangevinMCMC/mala.ipynb#X24sZmlsZQ%3D%3D?line=7'>8</a>\u001b[0m \u001b[39m#BenchmarkUtils.compute_metrics(mcmc_samples[0].detach(), true_samples)\u001b[39;00m\n",
      "File \u001b[0;32m~/Projects/LangevinMCMC/tools/benchmark.py:30\u001b[0m, in \u001b[0;36mBenchmarkUtils.sample_mcmc\u001b[0;34m(sampling_algorithm, starting_points, target_dist, sample_count, **kwargs)\u001b[0m\n\u001b[1;32m     27\u001b[0m \u001b[39m@staticmethod\u001b[39m\n\u001b[1;32m     28\u001b[0m \u001b[39mdef\u001b[39;00m \u001b[39msample_mcmc\u001b[39m(sampling_algorithm: Callable, starting_points: Tensor,\n\u001b[1;32m     29\u001b[0m                 target_dist: Distribution, sample_count: \u001b[39mint\u001b[39m, \u001b[39m*\u001b[39m\u001b[39m*\u001b[39mkwargs) \u001b[39m-\u001b[39m\u001b[39m>\u001b[39m Tensor:\n\u001b[0;32m---> 30\u001b[0m     \u001b[39mreturn\u001b[39;00m sampling_algorithm(starting_points\u001b[39m=\u001b[39;49mstarting_points, \n\u001b[1;32m     31\u001b[0m                               target_dist\u001b[39m=\u001b[39;49mtarget_dist,\n\u001b[1;32m     32\u001b[0m                               sample_count\u001b[39m=\u001b[39;49msample_count, \u001b[39m*\u001b[39;49m\u001b[39m*\u001b[39;49mkwargs)\n",
      "File \u001b[0;32m~/Projects/LangevinMCMC/samplers/fisher_mala.py:148\u001b[0m, in \u001b[0;36mfisher_mala\u001b[0;34m(starting_points, target_dist, sample_count, burn_in_prec, burn_in_sigma, project, sigma_init, damping, rho, alpha, verbose, meta, keep_graph)\u001b[0m\n\u001b[1;32m    124\u001b[0m grad_y \u001b[39m=\u001b[39m torch\u001b[39m.\u001b[39mautograd\u001b[39m.\u001b[39mgrad(\n\u001b[1;32m    125\u001b[0m     logp_y\u001b[39m.\u001b[39msum(),\n\u001b[1;32m    126\u001b[0m     proposal_point,\n\u001b[0;32m   (...)\u001b[0m\n\u001b[1;32m    130\u001b[0m     \u001b[39m0\u001b[39m\n\u001b[1;32m    131\u001b[0m ]  \u001b[39m# .detach()\u001b[39;00m\n\u001b[1;32m    133\u001b[0m \u001b[39m# Inefficient O(d^3) calculation of the inverse \u001b[39;00m\n\u001b[1;32m    134\u001b[0m \u001b[39m# grad_y_img = grad_y[..., None]\u001b[39;00m\n\u001b[1;32m    135\u001b[0m \u001b[39m# grad_y_img = R @ (R.permute(0, 2, 1) @ grad_y_img)\u001b[39;00m\n\u001b[0;32m   (...)\u001b[0m\n\u001b[1;32m    144\u001b[0m \u001b[39m#\u001b[39;00m\n\u001b[1;32m    145\u001b[0m \u001b[39m# accept_prob = torch.clamp((logp_y + log_qxy - logp_x - log_qyx).exp(), max=1)\u001b[39;00m\n\u001b[1;32m    146\u001b[0m accept_prob \u001b[39m=\u001b[39m torch\u001b[39m.\u001b[39mclamp(\n\u001b[1;32m    147\u001b[0m     torch\u001b[39m.\u001b[39mexp(\n\u001b[0;32m--> 148\u001b[0m         logp_y \u001b[39m+\u001b[39m h_(point, proposal_point) \u001b[39m-\u001b[39m logp_x \u001b[39m-\u001b[39m h_(proposal_point, point)\n\u001b[1;32m    149\u001b[0m     ),\n\u001b[1;32m    150\u001b[0m     \u001b[39mmax\u001b[39m\u001b[39m=\u001b[39m\u001b[39m1\u001b[39m\n\u001b[1;32m    151\u001b[0m )\n\u001b[1;32m    153\u001b[0m \u001b[39mif\u001b[39;00m \u001b[39mnot\u001b[39;00m keep_graph:\n\u001b[1;32m    154\u001b[0m     accept_prob \u001b[39m=\u001b[39m accept_prob\u001b[39m.\u001b[39mdetach()\n",
      "File \u001b[0;32m~/Projects/LangevinMCMC/samplers/fisher_mala.py:21\u001b[0m, in \u001b[0;36mh\u001b[0;34m(z, v, sigma, prec_factors, target_dist, keep_graph)\u001b[0m\n\u001b[1;32m     13\u001b[0m \u001b[39mdef\u001b[39;00m \u001b[39mh\u001b[39m(z: Tensor, v: Tensor, sigma: Tensor, prec_factors: \u001b[39mlist\u001b[39m[Tensor], \n\u001b[1;32m     14\u001b[0m       target_dist: Union[Distribution, torchDist], keep_graph: \u001b[39mbool\u001b[39m) \u001b[39m-\u001b[39m\u001b[39m>\u001b[39m Tensor:\n\u001b[1;32m     15\u001b[0m \u001b[39m    \u001b[39m\u001b[39m\"\"\"\u001b[39;00m\n\u001b[1;32m     16\u001b[0m \u001b[39m    z, v (sample_count, n_dim)\u001b[39;00m\n\u001b[1;32m     17\u001b[0m \u001b[39m    sigma (sample_count)\u001b[39;00m\n\u001b[1;32m     18\u001b[0m \u001b[39m    prec_factors List[(sample_count, n_dim, n_dim)]\u001b[39;00m\n\u001b[1;32m     19\u001b[0m \u001b[39m    \"\"\"\u001b[39;00m\n\u001b[0;32m---> 21\u001b[0m     logp_v \u001b[39m=\u001b[39m target_dist\u001b[39m.\u001b[39;49mlog_prob(v)\n\u001b[1;32m     22\u001b[0m     \u001b[39mif\u001b[39;00m keep_graph:\n\u001b[1;32m     23\u001b[0m         grad_v \u001b[39m=\u001b[39m torch\u001b[39m.\u001b[39mautograd\u001b[39m.\u001b[39mgrad(\n\u001b[1;32m     24\u001b[0m             logp_v\u001b[39m.\u001b[39msum(),\n\u001b[1;32m     25\u001b[0m             v,\n\u001b[1;32m     26\u001b[0m             create_graph\u001b[39m=\u001b[39mkeep_graph,\n\u001b[1;32m     27\u001b[0m             retain_graph\u001b[39m=\u001b[39mkeep_graph,\n\u001b[1;32m     28\u001b[0m         )[\u001b[39m0\u001b[39m]\n",
      "File \u001b[0;32m~/Projects/LangevinMCMC/distributions.py:40\u001b[0m, in \u001b[0;36mGaussianMixture.log_prob\u001b[0;34m(self, z)\u001b[0m\n\u001b[1;32m     39\u001b[0m \u001b[39mdef\u001b[39;00m \u001b[39mlog_prob\u001b[39m(\u001b[39mself\u001b[39m, z: Tensor) \u001b[39m-\u001b[39m\u001b[39m>\u001b[39m Tensor:\n\u001b[0;32m---> 40\u001b[0m     logs \u001b[39m=\u001b[39m torch\u001b[39m.\u001b[39;49mdistributions\u001b[39m.\u001b[39;49mMultivariateNormal(\n\u001b[1;32m     41\u001b[0m         \u001b[39mself\u001b[39;49m\u001b[39m.\u001b[39;49mmeans, \u001b[39mself\u001b[39;49m\u001b[39m.\u001b[39;49mcovs)\u001b[39m.\u001b[39mlog_prob(z[:, \u001b[39mNone\u001b[39;00m, :])\n\u001b[1;32m     42\u001b[0m     logs \u001b[39m+\u001b[39m\u001b[39m=\u001b[39m torch\u001b[39m.\u001b[39mlog(\u001b[39mself\u001b[39m\u001b[39m.\u001b[39mweights)\n\u001b[1;32m     44\u001b[0m     \u001b[39mreturn\u001b[39;00m Tensor(torch\u001b[39m.\u001b[39mlogsumexp(logs, dim\u001b[39m=\u001b[39m\u001b[39m1\u001b[39m))\n",
      "File \u001b[0;32m~/.pyenv/versions/3.11.7/envs/ml_env/lib/python3.11/site-packages/torch/distributions/multivariate_normal.py:182\u001b[0m, in \u001b[0;36mMultivariateNormal.__init__\u001b[0;34m(self, loc, covariance_matrix, precision_matrix, scale_tril, validate_args)\u001b[0m\n\u001b[1;32m    180\u001b[0m     \u001b[39mself\u001b[39m\u001b[39m.\u001b[39m_unbroadcasted_scale_tril \u001b[39m=\u001b[39m scale_tril\n\u001b[1;32m    181\u001b[0m \u001b[39melif\u001b[39;00m covariance_matrix \u001b[39mis\u001b[39;00m \u001b[39mnot\u001b[39;00m \u001b[39mNone\u001b[39;00m:\n\u001b[0;32m--> 182\u001b[0m     \u001b[39mself\u001b[39m\u001b[39m.\u001b[39m_unbroadcasted_scale_tril \u001b[39m=\u001b[39m torch\u001b[39m.\u001b[39;49mlinalg\u001b[39m.\u001b[39;49mcholesky(covariance_matrix)\n\u001b[1;32m    183\u001b[0m \u001b[39melse\u001b[39;00m:  \u001b[39m# precision_matrix is not None\u001b[39;00m\n\u001b[1;32m    184\u001b[0m     \u001b[39mself\u001b[39m\u001b[39m.\u001b[39m_unbroadcasted_scale_tril \u001b[39m=\u001b[39m _precision_to_scale_tril(precision_matrix)\n",
      "\u001b[0;31mKeyboardInterrupt\u001b[0m: "
     ]
    }
   ],
   "source": [
    "mcmc_samples = BenchmarkUtils.sample_mcmc(fisher_mala, starting_points, target_dist,\n",
    "                                          sample_count=sample_count,\n",
    "                                          burn_in_prec=4500,\n",
    "                                          burn_in_sigma=500,\n",
    "                                          sigma_init=1e-2, damping=10, keep_graph=False)\n",
    "\n",
    "# BenchmarkUtils.create_plot(mcmc_samples[0].detach(), true_samples, \"true dist\")\n",
    "#BenchmarkUtils.compute_metrics(mcmc_samples[0].detach(), true_samples)"
   ]
  },
  {
   "cell_type": "code",
   "execution_count": null,
   "metadata": {},
   "outputs": [
    {
     "data": {
      "text/plain": [
       "{'ess': 0.0731672,\n",
       " 'tv_mean': Array(0.6034001, dtype=float32),\n",
       " 'tv_conf_sigma': Array(0.00240188, dtype=float32),\n",
       " 'wasserstein': 1707.7763328802475}"
      ]
     },
     "execution_count": 4,
     "metadata": {},
     "output_type": "execute_result"
    }
   ],
   "source": [
    "BenchmarkUtils.compute_metrics(mcmc_samples[0].detach(), true_samples)"
   ]
  },
  {
   "cell_type": "code",
   "execution_count": null,
   "metadata": {},
   "outputs": [],
   "source": [
    "mcmc_samples = BenchmarkUtils.sample_mcmc(mala_new, starting_points, target_dist,\n",
    "                                          sample_count=sample_count,\n",
    "                                          burn_in=5000,\n",
    "                                          keep_graph=False,\n",
    "                                          sigma_init=1e-2)\n",
    "\n",
    "# BenchmarkUtils.create_plot(mcmc_samples[0].detach(), true_samples, \"trues dist\")\n",
    "BenchmarkUtils.compute_metrics(mcmc_samples[0].detach(), true_samples)"
   ]
  },
  {
   "cell_type": "code",
   "execution_count": null,
   "metadata": {},
   "outputs": [],
   "source": [
    "# torch.autograd.set_detect_anomaly(True)\n",
    "\n",
    "mcmc_samples = BenchmarkUtils.sample_mcmc(mala_old, starting_points, target_dist,\n",
    "                                          sample_count=sample_count,\n",
    "                                          burn_in=5000,\n",
    "                                          step_size=1e-2, keep_graph=True)\n",
    "\n",
    "# BenchmarkUtils.create_plot(mcmc_samples[0].detach(), true_samples, \"true dist\")\n",
    "#BenchmarkUtils.compute_metrics(mcmc_samples[0].detach(), true_samples)"
   ]
  },
  {
   "cell_type": "code",
   "execution_count": 18,
   "metadata": {},
   "outputs": [
    {
     "data": {
      "text/plain": [
       "{'ess': 0.010139392,\n",
       " 'tv_mean': Array(0.64891124, dtype=float32),\n",
       " 'tv_conf_sigma': Array(0.00244415, dtype=float32),\n",
       " 'wasserstein': 1750.0380741119382}"
      ]
     },
     "execution_count": 18,
     "metadata": {},
     "output_type": "execute_result"
    }
   ],
   "source": [
    "BenchmarkUtils.compute_metrics(mcmc_samples[0].detach(), true_samples)"
   ]
  },
  {
   "cell_type": "code",
   "execution_count": 16,
   "metadata": {},
   "outputs": [
    {
     "data": {
      "text/plain": [
       "{'ess': 0.010078529,\n",
       " 'tv_mean': Array(0.64356774, dtype=float32),\n",
       " 'tv_conf_sigma': Array(0.00246596, dtype=float32),\n",
       " 'wasserstein': 1746.3172492352303}"
      ]
     },
     "execution_count": 16,
     "metadata": {},
     "output_type": "execute_result"
    }
   ],
   "source": [
    "BenchmarkUtils.compute_metrics(mcmc_samples[0].detach(), true_samples)"
   ]
  },
  {
   "cell_type": "code",
   "execution_count": 3,
   "metadata": {},
   "outputs": [],
   "source": [
    "mcmc_samples = BenchmarkUtils.sample_mcmc(fisher_mala, starting_points, target_dist,\n",
    "                                          sample_count=sample_count,\n",
    "                                          burn_in_prec=4500,\n",
    "                                          burn_in_sigma=500,\n",
    "                                          sigma_init=1e-2, damping=10, keep_graph=False)\n",
    "\n",
    "# BenchmarkUtils.create_plot(mcmc_samples[0].detach(), true_samples, \"true dist\")\n",
    "#BenchmarkUtils.compute_metrics(mcmc_samples[0].detach(), true_samples)"
   ]
  },
  {
   "cell_type": "code",
   "execution_count": 4,
   "metadata": {},
   "outputs": [
    {
     "data": {
      "text/plain": [
       "{'ess': 0.07315685,\n",
       " 'tv_mean': Array(0.6034165, dtype=float32),\n",
       " 'tv_conf_sigma': Array(0.00240202, dtype=float32),\n",
       " 'wasserstein': 1707.7999110211185}"
      ]
     },
     "execution_count": 4,
     "metadata": {},
     "output_type": "execute_result"
    }
   ],
   "source": [
    "BenchmarkUtils.compute_metrics(mcmc_samples[0].detach(), true_samples)"
   ]
  },
  {
   "cell_type": "code",
   "execution_count": 6,
   "metadata": {},
   "outputs": [
    {
     "data": {
      "text/plain": [
       "{'ess': 0.011537474,\n",
       " 'tv_mean': Array(0.728531, dtype=float32),\n",
       " 'tv_conf_sigma': Array(0.00190675, dtype=float32),\n",
       " 'wasserstein': 1729.3248153472905}"
      ]
     },
     "execution_count": 6,
     "metadata": {},
     "output_type": "execute_result"
    }
   ],
   "source": [
    "BenchmarkUtils.compute_metrics(mcmc_samples[0].detach(), true_samples)"
   ]
  },
  {
   "cell_type": "code",
   "execution_count": 4,
   "metadata": {},
   "outputs": [
    {
     "data": {
      "text/plain": [
       "{'ess': 0.012827393,\n",
       " 'tv_mean': Array(0.7115489, dtype=float32),\n",
       " 'tv_conf_sigma': Array(0.00197668, dtype=float32),\n",
       " 'wasserstein': 1728.1137651416018}"
      ]
     },
     "execution_count": 4,
     "metadata": {},
     "output_type": "execute_result"
    }
   ],
   "source": [
    "BenchmarkUtils.compute_metrics(mcmc_samples[0].detach(), true_samples)"
   ]
  },
  {
   "cell_type": "code",
   "execution_count": 20,
   "metadata": {},
   "outputs": [
    {
     "data": {
      "text/plain": [
       "tensor([[[-2.0497,  0.1764, -2.5829,  ...,  3.3046,  4.0692, -1.0022],\n",
       "         [ 3.8289, -3.9299,  0.4494,  ..., -3.1968,  4.2702,  1.1870],\n",
       "         [-1.3687,  0.3629,  1.6260,  ...,  0.0060,  3.4639,  1.7519],\n",
       "         ...,\n",
       "         [-3.1083,  3.6177,  2.0024,  ...,  2.4079,  0.9273, -2.4880],\n",
       "         [-1.2598,  1.5646,  2.9307,  ...,  0.1115,  4.3825, -0.7696],\n",
       "         [-4.4671,  0.8064,  1.8228,  ...,  2.4949, -2.3659,  1.5476]],\n",
       "\n",
       "        [[-2.0431,  0.1697, -2.5927,  ...,  3.2980,  4.0705, -1.0041],\n",
       "         [ 3.8175, -3.9269,  0.4373,  ..., -3.2005,  4.2864,  1.1818],\n",
       "         [-1.3660,  0.3661,  1.6313,  ...,  0.0056,  3.4647,  1.7506],\n",
       "         ...,\n",
       "         [-3.1087,  3.6184,  1.9941,  ...,  2.3957,  0.9219, -2.5032],\n",
       "         [-1.2584,  1.5583,  2.9274,  ...,  0.1129,  4.3873, -0.7634],\n",
       "         [-4.4559,  0.8026,  1.8000,  ...,  2.5002, -2.3333,  1.5464]],\n",
       "\n",
       "        [[-2.0437,  0.1651, -2.5960,  ...,  3.2923,  4.0604, -0.9996],\n",
       "         [ 3.8085, -3.9371,  0.4386,  ..., -3.2008,  4.3008,  1.1936],\n",
       "         [-1.3618,  0.3731,  1.6340,  ...,  0.0322,  3.4657,  1.7529],\n",
       "         ...,\n",
       "         [-3.1022,  3.6272,  1.9869,  ...,  2.3929,  0.9198, -2.4987],\n",
       "         [-1.2684,  1.5459,  2.9552,  ...,  0.1222,  4.3804, -0.7677],\n",
       "         [-4.4490,  0.8119,  1.8033,  ...,  2.5117, -2.3438,  1.5520]],\n",
       "\n",
       "        ...,\n",
       "\n",
       "        [[-2.0376,  0.1588, -2.6215,  ...,  3.3291,  4.0665, -0.9654],\n",
       "         [ 3.8181, -3.9284,  0.4653,  ..., -3.2396,  4.2906,  1.1966],\n",
       "         [-1.4016,  0.3746,  1.6486,  ...,  0.0104,  3.4667,  1.7381],\n",
       "         ...,\n",
       "         [-3.1015,  3.6041,  2.0272,  ...,  2.3770,  0.8758, -2.4661],\n",
       "         [-1.2610,  1.5591,  2.9399,  ...,  0.0946,  4.4006, -0.7878],\n",
       "         [-4.4525,  0.8572,  1.7916,  ...,  2.4924, -2.3472,  1.5548]],\n",
       "\n",
       "        [[-2.0198,  0.1615, -2.6300,  ...,  3.3200,  4.0687, -0.9709],\n",
       "         [ 3.8267, -3.9292,  0.4724,  ..., -3.2205,  4.2928,  1.1753],\n",
       "         [-1.3973,  0.3626,  1.6530,  ...,  0.0217,  3.4730,  1.7432],\n",
       "         ...,\n",
       "         [-3.0857,  3.6058,  2.0432,  ...,  2.3757,  0.8701, -2.4537],\n",
       "         [-1.2525,  1.5700,  2.9167,  ...,  0.0990,  4.3948, -0.7719],\n",
       "         [-4.4597,  0.8705,  1.7912,  ...,  2.4960, -2.3727,  1.5745]],\n",
       "\n",
       "        [[-2.0184,  0.1544, -2.6194,  ...,  3.3076,  4.0693, -0.9749],\n",
       "         [ 3.8369, -3.9240,  0.4691,  ..., -3.2161,  4.2952,  1.1588],\n",
       "         [-1.4091,  0.3562,  1.6648,  ...,  0.0201,  3.4871,  1.7318],\n",
       "         ...,\n",
       "         [-3.0979,  3.6099,  2.0454,  ...,  2.3819,  0.8491, -2.4441],\n",
       "         [-1.2665,  1.5797,  2.9016,  ...,  0.0880,  4.4071, -0.7612],\n",
       "         [-4.4360,  0.8511,  1.7925,  ...,  2.4972, -2.3637,  1.5889]]])"
      ]
     },
     "execution_count": 20,
     "metadata": {},
     "output_type": "execute_result"
    }
   ],
   "source": [
    "mcmc_samples[0]"
   ]
  },
  {
   "cell_type": "code",
   "execution_count": null,
   "metadata": {},
   "outputs": [],
   "source": [
    "BenchmarkUtils.compute_metrics(mcmc_samples[0].detach(), true_samples)"
   ]
  },
  {
   "cell_type": "code",
   "execution_count": 18,
   "metadata": {},
   "outputs": [
    {
     "name": "stderr",
     "output_type": "stream",
     "text": [
      " 14%|█▍        | 1/7 [04:23<26:18, 263.13s/it]\n"
     ]
    },
    {
     "ename": "KeyboardInterrupt",
     "evalue": "",
     "output_type": "error",
     "traceback": [
      "\u001b[0;31m---------------------------------------------------------------------------\u001b[0m",
      "\u001b[0;31mKeyboardInterrupt\u001b[0m                         Traceback (most recent call last)",
      "\u001b[1;32m/home/liv/Projects/LangevinMCMC/mala.ipynb Cell 15\u001b[0m line \u001b[0;36m5\n\u001b[1;32m     <a href='vscode-notebook-cell:/home/liv/Projects/LangevinMCMC/mala.ipynb#X13sZmlsZQ%3D%3D?line=44'>45</a>\u001b[0m \u001b[39mfor\u001b[39;00m alg \u001b[39min\u001b[39;00m algs:\n\u001b[1;32m     <a href='vscode-notebook-cell:/home/liv/Projects/LangevinMCMC/mala.ipynb#X13sZmlsZQ%3D%3D?line=45'>46</a>\u001b[0m     benchmark \u001b[39m=\u001b[39m Benchmark(\n\u001b[1;32m     <a href='vscode-notebook-cell:/home/liv/Projects/LangevinMCMC/mala.ipynb#X13sZmlsZQ%3D%3D?line=46'>47</a>\u001b[0m         target_dist\u001b[39m=\u001b[39mgm,\n\u001b[1;32m     <a href='vscode-notebook-cell:/home/liv/Projects/LangevinMCMC/mala.ipynb#X13sZmlsZQ%3D%3D?line=47'>48</a>\u001b[0m         target_dist_title\u001b[39m=\u001b[39m\u001b[39m\"\u001b[39m\u001b[39mtrue samples\u001b[39m\u001b[39m\"\u001b[39m,\n\u001b[0;32m   (...)\u001b[0m\n\u001b[1;32m     <a href='vscode-notebook-cell:/home/liv/Projects/LangevinMCMC/mala.ipynb#X13sZmlsZQ%3D%3D?line=53'>54</a>\u001b[0m         distance_to_mass_points\u001b[39m=\u001b[39mradius\n\u001b[1;32m     <a href='vscode-notebook-cell:/home/liv/Projects/LangevinMCMC/mala.ipynb#X13sZmlsZQ%3D%3D?line=54'>55</a>\u001b[0m     )\n\u001b[0;32m---> <a href='vscode-notebook-cell:/home/liv/Projects/LangevinMCMC/mala.ipynb#X13sZmlsZQ%3D%3D?line=57'>58</a>\u001b[0m     cur_res \u001b[39m=\u001b[39m benchmark\u001b[39m.\u001b[39;49mrun(keep_graph\u001b[39m=\u001b[39;49m\u001b[39mFalse\u001b[39;49;00m, \u001b[39m*\u001b[39;49m\u001b[39m*\u001b[39;49malg_params[alg])\n\u001b[1;32m     <a href='vscode-notebook-cell:/home/liv/Projects/LangevinMCMC/mala.ipynb#X13sZmlsZQ%3D%3D?line=58'>59</a>\u001b[0m     cur_res[\u001b[39m\"\u001b[39m\u001b[39mdimension\u001b[39m\u001b[39m\"\u001b[39m] \u001b[39m=\u001b[39m mass_points_count\n\u001b[1;32m     <a href='vscode-notebook-cell:/home/liv/Projects/LangevinMCMC/mala.ipynb#X13sZmlsZQ%3D%3D?line=60'>61</a>\u001b[0m     \u001b[39mfor\u001b[39;00m key \u001b[39min\u001b[39;00m cur_res:\n",
      "File \u001b[0;32m~/Projects/LangevinMCMC/tools/benchmark.py:97\u001b[0m, in \u001b[0;36mBenchmark.run\u001b[0;34m(self, plot, **kwargs)\u001b[0m\n\u001b[1;32m     94\u001b[0m \u001b[39mif\u001b[39;00m plot:\n\u001b[1;32m     95\u001b[0m     BenchmarkUtils\u001b[39m.\u001b[39mcreate_plot(mcmc_samples, true_samples, \u001b[39m\"\u001b[39m\u001b[39mtrue dist\u001b[39m\u001b[39m\"\u001b[39m)\n\u001b[0;32m---> 97\u001b[0m res_metrics \u001b[39m=\u001b[39m BenchmarkUtils\u001b[39m.\u001b[39;49mcompute_metrics(mcmc_samples, true_samples)\n\u001b[1;32m     98\u001b[0m time_elapsed \u001b[39m=\u001b[39m time\u001b[39m.\u001b[39mperf_counter() \u001b[39m-\u001b[39m start_time\n\u001b[1;32m     99\u001b[0m res_metrics[\u001b[39m\"\u001b[39m\u001b[39mtime_elapsed\u001b[39m\u001b[39m\"\u001b[39m] \u001b[39m=\u001b[39m time_elapsed\n",
      "File \u001b[0;32m~/Projects/LangevinMCMC/tools/benchmark.py:64\u001b[0m, in \u001b[0;36mBenchmarkUtils.compute_metrics\u001b[0;34m(mcmc_samples, true_samples, **kwargs)\u001b[0m\n\u001b[1;32m     61\u001b[0m \u001b[39m@staticmethod\u001b[39m\n\u001b[1;32m     62\u001b[0m \u001b[39mdef\u001b[39;00m \u001b[39mcompute_metrics\u001b[39m(mcmc_samples: Tensor, true_samples: Tensor, \n\u001b[1;32m     63\u001b[0m                     \u001b[39m*\u001b[39m\u001b[39m*\u001b[39mkwargs) \u001b[39m-\u001b[39m\u001b[39m>\u001b[39m \u001b[39mdict\u001b[39m:\n\u001b[0;32m---> 64\u001b[0m     \u001b[39mreturn\u001b[39;00m metrics\u001b[39m.\u001b[39;49mcompute_metrics(jnp\u001b[39m.\u001b[39;49marray(true_samples),\n\u001b[1;32m     65\u001b[0m                                    jnp\u001b[39m.\u001b[39;49marray(mcmc_samples), \u001b[39m*\u001b[39;49m\u001b[39m*\u001b[39;49mkwargs)\n",
      "File \u001b[0;32m~/Projects/LangevinMCMC/tools/metrics.py:52\u001b[0m, in \u001b[0;36mcompute_metrics\u001b[0;34m(xs_true, xs_pred, name, sample_count, scale, trunc_chain_len, ess_rar, max_iter_ot)\u001b[0m\n\u001b[1;32m     50\u001b[0m \u001b[39mfor\u001b[39;00m b \u001b[39min\u001b[39;00m \u001b[39mrange\u001b[39m(xs_pred\u001b[39m.\u001b[39mshape[\u001b[39m1\u001b[39m]):\n\u001b[1;32m     51\u001b[0m     M \u001b[39m=\u001b[39m np\u001b[39m.\u001b[39marray(ot\u001b[39m.\u001b[39mdist(xs_true \u001b[39m/\u001b[39m scale, xs_pred[:, b] \u001b[39m/\u001b[39m scale))\n\u001b[0;32m---> 52\u001b[0m     emd \u001b[39m=\u001b[39m ot\u001b[39m.\u001b[39;49mlp\u001b[39m.\u001b[39;49memd2([], [], M, numItermax\u001b[39m=\u001b[39;49mmax_iter_ot)\n\u001b[1;32m     53\u001b[0m     metrics[\u001b[39m\"\u001b[39m\u001b[39mwasserstein\u001b[39m\u001b[39m\"\u001b[39m] \u001b[39m+\u001b[39m\u001b[39m=\u001b[39m emd \u001b[39m/\u001b[39m xs_pred\u001b[39m.\u001b[39mshape[\u001b[39m1\u001b[39m]\n\u001b[1;32m     55\u001b[0m \u001b[39mreturn\u001b[39;00m metrics\n",
      "File \u001b[0;32m~/.pyenv/versions/3.11.7/envs/ml_env/lib/python3.11/site-packages/ot/lp/__init__.py:575\u001b[0m, in \u001b[0;36memd2\u001b[0;34m(a, b, M, processes, numItermax, log, return_matrix, center_dual, numThreads, check_marginals)\u001b[0m\n\u001b[1;32m    572\u001b[0m         \u001b[39mreturn\u001b[39;00m cost\n\u001b[1;32m    574\u001b[0m \u001b[39mif\u001b[39;00m \u001b[39mlen\u001b[39m(b\u001b[39m.\u001b[39mshape) \u001b[39m==\u001b[39m \u001b[39m1\u001b[39m:\n\u001b[0;32m--> 575\u001b[0m     \u001b[39mreturn\u001b[39;00m f(b)\n\u001b[1;32m    576\u001b[0m nb \u001b[39m=\u001b[39m b\u001b[39m.\u001b[39mshape[\u001b[39m1\u001b[39m]\n\u001b[1;32m    578\u001b[0m \u001b[39mif\u001b[39;00m processes \u001b[39m>\u001b[39m \u001b[39m1\u001b[39m:\n",
      "File \u001b[0;32m~/.pyenv/versions/3.11.7/envs/ml_env/lib/python3.11/site-packages/ot/lp/__init__.py:550\u001b[0m, in \u001b[0;36memd2.<locals>.f\u001b[0;34m(b)\u001b[0m\n\u001b[1;32m    548\u001b[0m \u001b[39mdef\u001b[39;00m \u001b[39mf\u001b[39m(b):\n\u001b[1;32m    549\u001b[0m     bsel \u001b[39m=\u001b[39m b \u001b[39m!=\u001b[39m \u001b[39m0\u001b[39m\n\u001b[0;32m--> 550\u001b[0m     G, cost, u, v, result_code \u001b[39m=\u001b[39m emd_c(a, b, M, numItermax, numThreads)\n\u001b[1;32m    552\u001b[0m     \u001b[39mif\u001b[39;00m center_dual:\n\u001b[1;32m    553\u001b[0m         u, v \u001b[39m=\u001b[39m center_ot_dual(u, v, a, b)\n",
      "\u001b[0;31mKeyboardInterrupt\u001b[0m: "
     ]
    }
   ],
   "source": [
    "# algs = [mala, ada_mala]\n",
    "algs = {\n",
    "    \"mala_new\": mala_new,\n",
    "    \"mala_old\": mala_old,\n",
    "    \"fisher_mala\": fisher_mala\n",
    "}\n",
    "res_total = {\n",
    "    alg : {}\n",
    "    for alg in algs\n",
    "}\n",
    "\n",
    "\n",
    "mass_points_counts = [2, 5, 10, 25, 50, 100, 200]\n",
    "radius = 2\n",
    "cube = 5\n",
    "chain_count = 5\n",
    "sample_count = 5000\n",
    "burn_in = 5000\n",
    "true_means = torch.rand((mass_points_count, mass_points_count)) * 2 * cube - cube\n",
    "true_covs = torch.eye(mass_points_count).repeat(mass_points_count, 1, 1)\n",
    "\n",
    "alg_params = {\n",
    "    \"mala_old\": {\n",
    "        \"burn_in\": burn_in,\n",
    "        \"step_size\": 1e-2\n",
    "    },\n",
    "    \"mala_new\": {\n",
    "        \"burn_in\": burn_in,\n",
    "        \"sigma_init\": 1e-2,\n",
    "    },\n",
    "    \"fisher_mala\": {\n",
    "        \"burn_in_prec\": burn_in - 500,\n",
    "        \"burn_in_sigma\": 500,\n",
    "        \"sigma_init\": 1e-2\n",
    "    },\n",
    "}\n",
    "\n",
    "\n",
    "for mass_points_count in tqdm.tqdm(mass_points_counts):\n",
    "    true_means = torch.rand((mass_points_count, mass_points_count)) * 10 - 5\n",
    "    true_covs = torch.eye(mass_points_count).repeat(mass_points_count, 1, 1)\n",
    "    gm = GaussianMixture(true_means, true_covs,\n",
    "                         torch.full((mass_points_count,), 1/mass_points_count))\n",
    "\n",
    "    for alg in algs:\n",
    "        benchmark = Benchmark(\n",
    "            target_dist=gm,\n",
    "            target_dist_title=\"true samples\",\n",
    "            dimension=mass_points_count,\n",
    "            sampling_algorithm=algs[alg], \n",
    "            sample_count=sample_count,\n",
    "            chain_count=chain_count,\n",
    "            target_dist_mass_points=true_means,\n",
    "            distance_to_mass_points=radius\n",
    "        )\n",
    "\n",
    "\n",
    "        cur_res = benchmark.run(keep_graph=False, **alg_params[alg])\n",
    "        cur_res[\"dimension\"] = mass_points_count\n",
    "\n",
    "        for key in cur_res:\n",
    "            if key in res_total[alg]:\n",
    "                res_total[alg][key].append(cur_res[key])\n",
    "            else:\n",
    "                res_total[alg][key] = [cur_res[key]]"
   ]
  },
  {
   "cell_type": "code",
   "execution_count": null,
   "metadata": {},
   "outputs": [
    {
     "data": {
      "text/html": [
       "<div>\n",
       "<style scoped>\n",
       "    .dataframe tbody tr th:only-of-type {\n",
       "        vertical-align: middle;\n",
       "    }\n",
       "\n",
       "    .dataframe tbody tr th {\n",
       "        vertical-align: top;\n",
       "    }\n",
       "\n",
       "    .dataframe thead th {\n",
       "        text-align: right;\n",
       "    }\n",
       "</style>\n",
       "<table border=\"1\" class=\"dataframe\">\n",
       "  <thead>\n",
       "    <tr style=\"text-align: right;\">\n",
       "      <th></th>\n",
       "      <th>ess</th>\n",
       "      <th>tv_mean</th>\n",
       "      <th>tv_conf_sigma</th>\n",
       "      <th>wasserstein</th>\n",
       "      <th>time_elapsed</th>\n",
       "      <th>dimension</th>\n",
       "    </tr>\n",
       "  </thead>\n",
       "  <tbody>\n",
       "    <tr>\n",
       "      <th>0</th>\n",
       "      <td>0.018432</td>\n",
       "      <td>0.53270483</td>\n",
       "      <td>0.013523146</td>\n",
       "      <td>20.566136</td>\n",
       "      <td>1.403349</td>\n",
       "      <td>2</td>\n",
       "    </tr>\n",
       "    <tr>\n",
       "      <th>1</th>\n",
       "      <td>0.017617</td>\n",
       "      <td>0.58164823</td>\n",
       "      <td>0.014839096</td>\n",
       "      <td>68.570832</td>\n",
       "      <td>1.412987</td>\n",
       "      <td>5</td>\n",
       "    </tr>\n",
       "    <tr>\n",
       "      <th>2</th>\n",
       "      <td>0.018589</td>\n",
       "      <td>0.6533207</td>\n",
       "      <td>0.012992664</td>\n",
       "      <td>165.212734</td>\n",
       "      <td>1.525100</td>\n",
       "      <td>10</td>\n",
       "    </tr>\n",
       "    <tr>\n",
       "      <th>3</th>\n",
       "      <td>0.018728</td>\n",
       "      <td>0.6890273</td>\n",
       "      <td>0.010654363</td>\n",
       "      <td>240.010562</td>\n",
       "      <td>1.509693</td>\n",
       "      <td>15</td>\n",
       "    </tr>\n",
       "  </tbody>\n",
       "</table>\n",
       "</div>"
      ],
      "text/plain": [
       "        ess     tv_mean tv_conf_sigma  wasserstein  time_elapsed  dimension\n",
       "0  0.018432  0.53270483   0.013523146    20.566136      1.403349          2\n",
       "1  0.017617  0.58164823   0.014839096    68.570832      1.412987          5\n",
       "2  0.018589   0.6533207   0.012992664   165.212734      1.525100         10\n",
       "3  0.018728   0.6890273   0.010654363   240.010562      1.509693         15"
      ]
     },
     "execution_count": 13,
     "metadata": {},
     "output_type": "execute_result"
    }
   ],
   "source": [
    "pd.DataFrame(res_total[\"mala_old\"])"
   ]
  },
  {
   "cell_type": "code",
   "execution_count": null,
   "metadata": {},
   "outputs": [
    {
     "data": {
      "text/html": [
       "<div>\n",
       "<style scoped>\n",
       "    .dataframe tbody tr th:only-of-type {\n",
       "        vertical-align: middle;\n",
       "    }\n",
       "\n",
       "    .dataframe tbody tr th {\n",
       "        vertical-align: top;\n",
       "    }\n",
       "\n",
       "    .dataframe thead th {\n",
       "        text-align: right;\n",
       "    }\n",
       "</style>\n",
       "<table border=\"1\" class=\"dataframe\">\n",
       "  <thead>\n",
       "    <tr style=\"text-align: right;\">\n",
       "      <th></th>\n",
       "      <th>ess</th>\n",
       "      <th>tv_mean</th>\n",
       "      <th>tv_conf_sigma</th>\n",
       "      <th>wasserstein</th>\n",
       "      <th>time_elapsed</th>\n",
       "      <th>dimension</th>\n",
       "    </tr>\n",
       "  </thead>\n",
       "  <tbody>\n",
       "    <tr>\n",
       "      <th>0</th>\n",
       "      <td>0.018756</td>\n",
       "      <td>0.8588349</td>\n",
       "      <td>0.004755634</td>\n",
       "      <td>25.745464</td>\n",
       "      <td>1.589163</td>\n",
       "      <td>2</td>\n",
       "    </tr>\n",
       "    <tr>\n",
       "      <th>1</th>\n",
       "      <td>0.015801</td>\n",
       "      <td>0.87675947</td>\n",
       "      <td>0.004756532</td>\n",
       "      <td>70.006221</td>\n",
       "      <td>1.617835</td>\n",
       "      <td>5</td>\n",
       "    </tr>\n",
       "    <tr>\n",
       "      <th>2</th>\n",
       "      <td>0.016033</td>\n",
       "      <td>0.8988648</td>\n",
       "      <td>0.003826085</td>\n",
       "      <td>150.161710</td>\n",
       "      <td>1.795222</td>\n",
       "      <td>10</td>\n",
       "    </tr>\n",
       "    <tr>\n",
       "      <th>3</th>\n",
       "      <td>0.015761</td>\n",
       "      <td>0.9101176</td>\n",
       "      <td>0.0039818287</td>\n",
       "      <td>245.844473</td>\n",
       "      <td>1.838375</td>\n",
       "      <td>15</td>\n",
       "    </tr>\n",
       "  </tbody>\n",
       "</table>\n",
       "</div>"
      ],
      "text/plain": [
       "        ess     tv_mean tv_conf_sigma  wasserstein  time_elapsed  dimension\n",
       "0  0.018756   0.8588349   0.004755634    25.745464      1.589163          2\n",
       "1  0.015801  0.87675947   0.004756532    70.006221      1.617835          5\n",
       "2  0.016033   0.8988648   0.003826085   150.161710      1.795222         10\n",
       "3  0.015761   0.9101176  0.0039818287   245.844473      1.838375         15"
      ]
     },
     "execution_count": 14,
     "metadata": {},
     "output_type": "execute_result"
    }
   ],
   "source": [
    "pd.DataFrame(res_total[\"mala_new\"])"
   ]
  },
  {
   "cell_type": "code",
   "execution_count": null,
   "metadata": {},
   "outputs": [
    {
     "data": {
      "text/html": [
       "<div>\n",
       "<style scoped>\n",
       "    .dataframe tbody tr th:only-of-type {\n",
       "        vertical-align: middle;\n",
       "    }\n",
       "\n",
       "    .dataframe tbody tr th {\n",
       "        vertical-align: top;\n",
       "    }\n",
       "\n",
       "    .dataframe thead th {\n",
       "        text-align: right;\n",
       "    }\n",
       "</style>\n",
       "<table border=\"1\" class=\"dataframe\">\n",
       "  <thead>\n",
       "    <tr style=\"text-align: right;\">\n",
       "      <th></th>\n",
       "      <th>ess</th>\n",
       "      <th>tv_mean</th>\n",
       "      <th>tv_conf_sigma</th>\n",
       "      <th>wasserstein</th>\n",
       "      <th>time_elapsed</th>\n",
       "      <th>dimension</th>\n",
       "    </tr>\n",
       "  </thead>\n",
       "  <tbody>\n",
       "    <tr>\n",
       "      <th>0</th>\n",
       "      <td>0.016448</td>\n",
       "      <td>0.8733221</td>\n",
       "      <td>0.005014251</td>\n",
       "      <td>28.012630</td>\n",
       "      <td>1.910149</td>\n",
       "      <td>2</td>\n",
       "    </tr>\n",
       "    <tr>\n",
       "      <th>1</th>\n",
       "      <td>0.013958</td>\n",
       "      <td>0.8805882</td>\n",
       "      <td>0.0055737854</td>\n",
       "      <td>71.746634</td>\n",
       "      <td>1.996947</td>\n",
       "      <td>5</td>\n",
       "    </tr>\n",
       "    <tr>\n",
       "      <th>2</th>\n",
       "      <td>0.016154</td>\n",
       "      <td>0.906693</td>\n",
       "      <td>0.003734962</td>\n",
       "      <td>180.062975</td>\n",
       "      <td>2.064831</td>\n",
       "      <td>10</td>\n",
       "    </tr>\n",
       "    <tr>\n",
       "      <th>3</th>\n",
       "      <td>0.017291</td>\n",
       "      <td>0.9091048</td>\n",
       "      <td>0.0032813984</td>\n",
       "      <td>232.972140</td>\n",
       "      <td>2.109851</td>\n",
       "      <td>15</td>\n",
       "    </tr>\n",
       "  </tbody>\n",
       "</table>\n",
       "</div>"
      ],
      "text/plain": [
       "        ess    tv_mean tv_conf_sigma  wasserstein  time_elapsed  dimension\n",
       "0  0.016448  0.8733221   0.005014251    28.012630      1.910149          2\n",
       "1  0.013958  0.8805882  0.0055737854    71.746634      1.996947          5\n",
       "2  0.016154   0.906693   0.003734962   180.062975      2.064831         10\n",
       "3  0.017291  0.9091048  0.0032813984   232.972140      2.109851         15"
      ]
     },
     "execution_count": 15,
     "metadata": {},
     "output_type": "execute_result"
    }
   ],
   "source": [
    "pd.DataFrame(res_total[\"fisher_mala\"])"
   ]
  },
  {
   "cell_type": "code",
   "execution_count": 28,
   "metadata": {},
   "outputs": [
    {
     "data": {
      "text/plain": [
       "tensor(-80.6931)"
      ]
     },
     "execution_count": 28,
     "metadata": {},
     "output_type": "execute_result"
    }
   ],
   "source": [
    "logp = Tensor([-90, -80])\n",
    "weights = torch.full_like(logp, 1/len(logp))\n",
    "\n",
    "Tensor(torch.log(torch.exp(logp) @ weights))"
   ]
  },
  {
   "cell_type": "code",
   "execution_count": 24,
   "metadata": {},
   "outputs": [
    {
     "data": {
      "text/plain": [
       "tensor([0.5000, 0.5000])"
      ]
     },
     "execution_count": 24,
     "metadata": {},
     "output_type": "execute_result"
    }
   ],
   "source": [
    "torch.full_like(logp, 1/len(logp))"
   ]
  }
 ],
 "metadata": {
  "kernelspec": {
   "display_name": "ml_env",
   "language": "python",
   "name": "python3"
  },
  "language_info": {
   "codemirror_mode": {
    "name": "ipython",
    "version": 3
   },
   "file_extension": ".py",
   "mimetype": "text/x-python",
   "name": "python",
   "nbconvert_exporter": "python",
   "pygments_lexer": "ipython3",
   "version": "3.11.7"
  }
 },
 "nbformat": 4,
 "nbformat_minor": 2
}
